{
 "cells": [
  {
   "cell_type": "markdown",
   "metadata": {
    "pycharm": {
     "name": "#%% md\n"
    }
   },
   "source": [
    "# Exercise 3: Reading and Writing NetCDF files with Python\n",
    "\n",
    "## Aim: Introduce the netCDF4 library in Python to read and create NetCDF4 files.\n",
    "\n",
    "### Issues covered:\n",
    "\n",
    "- Importing netCDF4\n",
    "- Reading a NetCDF file as a Dataset instance\n",
    "- Accessing Dimensions, Variables, and Attributes\n",
    "- Defining Dimensions, Variables, and Attributes\n",
    "- Writing a NetCDF file as a Dataset\n",
    "\n",
    "## Let's work with the netCDF4 library to examine the contents of a data file.\n",
    "\n",
    "Import the `netCDF4` library"
   ]
  },
  {
   "cell_type": "code",
   "execution_count": 2,
   "metadata": {
    "collapsed": false,
    "jupyter": {
     "outputs_hidden": false
    },
    "pycharm": {
     "name": "#%%\n"
    }
   },
   "outputs": [],
   "source": [
    "import netCDF4\n",
    "from netCDF4 import Dataset\n",
    "\n"
   ]
  },
  {
   "attachments": {},
   "cell_type": "markdown",
   "metadata": {},
   "source": [
    "Open the file \"../example_data/ggas2014121200_00-18.nc\" with the netCDF4 `Dataset` method,\n",
    "assign it to the `ds` variable."
   ]
  },
  {
   "cell_type": "code",
   "execution_count": 4,
   "metadata": {
    "collapsed": false,
    "jupyter": {
     "outputs_hidden": false
    },
    "pycharm": {
     "name": "#%%\n"
    }
   },
   "outputs": [],
   "source": [
    "ds = Dataset('../example_data/ggas2014121200_00-18.nc')\n"
   ]
  },
  {
   "cell_type": "markdown",
   "metadata": {},
   "source": [
    "Loop through and print Dataset `variables` names, this is the ID that act like the key to access the Variable."
   ]
  },
  {
   "cell_type": "code",
   "execution_count": 9,
   "metadata": {
    "collapsed": false,
    "jupyter": {
     "outputs_hidden": false
    },
    "pycharm": {
     "name": "#%%\n"
    }
   },
   "outputs": [
    {
     "name": "stdout",
     "output_type": "stream",
     "text": [
      "longitude\n",
      "latitude\n",
      "surface\n",
      "time\n",
      "CI\n",
      "SSTK\n",
      "MSL\n",
      "TCC\n",
      "U10\n",
      "V10\n",
      "SKT\n"
     ]
    }
   ],
   "source": [
    "for v in ds.variables:\n",
    "    print(v)"
   ]
  },
  {
   "cell_type": "markdown",
   "metadata": {
    "pycharm": {
     "name": "#%% md\n"
    }
   },
   "source": [
    "From the Dataset `variables`, assign the key `SSTK` to the `sst` variable.\n",
    "Access the `SSTK` variable like you would a dictionary from `ds.variables`.\n",
    "\n",
    "- Print the `shape` and `size` of the `sst` variable\n",
    "- Loop through the `dimensions` of `sst` and print the dimension name and length.\n",
    "- Loop through the NetCDF attributes of `sst` and print the name and value.\n",
    "(use `sst.ncattrs()` to access the attributes and `getattr(sst, {attribute name})` to get the value)"
   ]
  },
  {
   "cell_type": "code",
   "execution_count": 11,
   "metadata": {
    "collapsed": false,
    "jupyter": {
     "outputs_hidden": false
    },
    "pycharm": {
     "name": "#%%\n"
    }
   },
   "outputs": [
    {
     "name": "stdout",
     "output_type": "stream",
     "text": [
      "(4, 1, 256, 512) 524288\n",
      "time 4\n",
      "surface 7\n",
      "latitude 8\n",
      "longitude 9\n",
      "long_name = Sea surface temperature\n",
      "units = K\n",
      "grid_type = gaussian\n",
      "_FillValue = 2.0000000400817547e+20\n",
      "source = GRIB data\n",
      "name = SSTK\n",
      "title = Sea surface temperature\n",
      "date = 12/12/14\n",
      "time = 00:00\n"
     ]
    }
   ],
   "source": [
    "sst = ds.variables['SSTK']\n",
    "\n",
    "print(sst.shape, sst.size)\n",
    "\n",
    "for d in sst.dimensions:\n",
    "    print(d, len(d))\n",
    "\n",
    "for attr in sst.ncattrs():\n",
    "    print(f\"{attr} = {getattr(sst, attr)}\")\n",
    "\n",
    "\n",
    "\n"
   ]
  },
  {
   "cell_type": "markdown",
   "metadata": {},
   "source": [
    "## Let's extract some data and its related coordinate information and metadata.\n",
    "\n",
    "Using the `sst` variable from before, take a slice of `sst` as follows and assign it the variable `arr`:\n",
    "\n",
    "```python\n",
    "sst[1, 0, 10:20, 30:35]\n",
    "```\n",
    "\n",
    "- Print what type of object `arr` is"
   ]
  },
  {
   "cell_type": "code",
   "execution_count": 13,
   "metadata": {
    "collapsed": false,
    "jupyter": {
     "outputs_hidden": false
    },
    "pycharm": {
     "name": "#%%\n"
    }
   },
   "outputs": [
    {
     "data": {
      "text/plain": [
       "numpy.ma.core.MaskedArray"
      ]
     },
     "execution_count": 13,
     "metadata": {},
     "output_type": "execute_result"
    }
   ],
   "source": [
    "arr = sst[1, 0, 10:20, 30:35]\n",
    "type(arr)"
   ]
  },
  {
   "cell_type": "markdown",
   "metadata": {
    "pycharm": {
     "name": "#%% md\n"
    }
   },
   "source": [
    "Assign and print the list of `dimensions` from `sst` to the variable `dims`.\n",
    "Assign the `variables` dictionary of the Dataset, `ds`, to the variables `vars`"
   ]
  },
  {
   "cell_type": "code",
   "execution_count": 15,
   "metadata": {
    "jupyter": {
     "source_hidden": true
    },
    "pycharm": {
     "name": "#%%\n"
    },
    "scrolled": true
   },
   "outputs": [
    {
     "name": "stdout",
     "output_type": "stream",
     "text": [
      "('time', 'surface', 'latitude', 'longitude')\n",
      "{'longitude': <class 'netCDF4._netCDF4.Variable'>\n",
      "float32 longitude(longitude)\n",
      "    standard_name: longitude\n",
      "    long_name: longitude\n",
      "    units: degrees_east\n",
      "    axis: X\n",
      "unlimited dimensions: \n",
      "current shape = (512,)\n",
      "filling on, default _FillValue of 9.969209968386869e+36 used, 'latitude': <class 'netCDF4._netCDF4.Variable'>\n",
      "float32 latitude(latitude)\n",
      "    standard_name: latitude\n",
      "    long_name: latitude\n",
      "    units: degrees_north\n",
      "    axis: Y\n",
      "unlimited dimensions: \n",
      "current shape = (256,)\n",
      "filling on, default _FillValue of 9.969209968386869e+36 used, 'surface': <class 'netCDF4._netCDF4.Variable'>\n",
      "float32 surface(surface)\n",
      "    long_name: surface\n",
      "    units: level\n",
      "    axis: Z\n",
      "unlimited dimensions: \n",
      "current shape = (1,)\n",
      "filling on, default _FillValue of 9.969209968386869e+36 used, 'time': <class 'netCDF4._netCDF4.Variable'>\n",
      "float64 time(time)\n",
      "    standard_name: time\n",
      "    units: days since 2014-12-12 00:00:00\n",
      "    calendar: standard\n",
      "unlimited dimensions: time\n",
      "current shape = (4,)\n",
      "filling on, default _FillValue of 9.969209968386869e+36 used, 'CI': <class 'netCDF4._netCDF4.Variable'>\n",
      "float32 CI(time, surface, latitude, longitude)\n",
      "    long_name: Sea-ice cover\n",
      "    units: (0 - 1)\n",
      "    grid_type: gaussian\n",
      "    _FillValue: 2e+20\n",
      "    source: GRIB data\n",
      "    name: CI\n",
      "    title: Sea-ice cover\n",
      "    date: 12/12/14\n",
      "    time: 00:00\n",
      "unlimited dimensions: time\n",
      "current shape = (4, 1, 256, 512)\n",
      "filling on, 'SSTK': <class 'netCDF4._netCDF4.Variable'>\n",
      "float32 SSTK(time, surface, latitude, longitude)\n",
      "    long_name: Sea surface temperature\n",
      "    units: K\n",
      "    grid_type: gaussian\n",
      "    _FillValue: 2e+20\n",
      "    source: GRIB data\n",
      "    name: SSTK\n",
      "    title: Sea surface temperature\n",
      "    date: 12/12/14\n",
      "    time: 00:00\n",
      "unlimited dimensions: time\n",
      "current shape = (4, 1, 256, 512)\n",
      "filling on, 'MSL': <class 'netCDF4._netCDF4.Variable'>\n",
      "float32 MSL(time, surface, latitude, longitude)\n",
      "    standard_name: air_pressure_at_sea_level\n",
      "    long_name: Mean sea-level pressure\n",
      "    units: Pa\n",
      "    grid_type: gaussian\n",
      "    _FillValue: 2e+20\n",
      "    source: GRIB data\n",
      "    name: MSL\n",
      "    title: Mean sea-level pressure\n",
      "    date: 12/12/14\n",
      "    time: 00:00\n",
      "unlimited dimensions: time\n",
      "current shape = (4, 1, 256, 512)\n",
      "filling on, 'TCC': <class 'netCDF4._netCDF4.Variable'>\n",
      "float32 TCC(time, surface, latitude, longitude)\n",
      "    standard_name: cloud_area_fraction\n",
      "    long_name: Total cloud cover\n",
      "    units: (0 - 1)\n",
      "    grid_type: gaussian\n",
      "    _FillValue: 2e+20\n",
      "    source: GRIB data\n",
      "    name: TCC\n",
      "    title: Total cloud cover\n",
      "    date: 12/12/14\n",
      "    time: 00:00\n",
      "unlimited dimensions: time\n",
      "current shape = (4, 1, 256, 512)\n",
      "filling on, 'U10': <class 'netCDF4._netCDF4.Variable'>\n",
      "float32 U10(time, surface, latitude, longitude)\n",
      "    standard_name: eastward_wind\n",
      "    long_name: 10 metre U wind component\n",
      "    units: m s**-1\n",
      "    grid_type: gaussian\n",
      "    _FillValue: 2e+20\n",
      "    source: GRIB data\n",
      "    name: U10\n",
      "    title: 10 metre U wind component\n",
      "    date: 12/12/14\n",
      "    time: 00:00\n",
      "unlimited dimensions: time\n",
      "current shape = (4, 1, 256, 512)\n",
      "filling on, 'V10': <class 'netCDF4._netCDF4.Variable'>\n",
      "float32 V10(time, surface, latitude, longitude)\n",
      "    standard_name: northward_wind\n",
      "    long_name: 10 metre V wind component\n",
      "    units: m s**-1\n",
      "    grid_type: gaussian\n",
      "    _FillValue: 2e+20\n",
      "    source: GRIB data\n",
      "    name: V10\n",
      "    title: 10 metre V wind component\n",
      "    date: 12/12/14\n",
      "    time: 00:00\n",
      "unlimited dimensions: time\n",
      "current shape = (4, 1, 256, 512)\n",
      "filling on, 'SKT': <class 'netCDF4._netCDF4.Variable'>\n",
      "float32 SKT(time, surface, latitude, longitude)\n",
      "    long_name: Skin temperature\n",
      "    units: K\n",
      "    grid_type: gaussian\n",
      "    _FillValue: 2e+20\n",
      "    source: GRIB data\n",
      "    name: SKT\n",
      "    title: Skin temperature\n",
      "    date: 12/12/14\n",
      "    time: 00:00\n",
      "unlimited dimensions: time\n",
      "current shape = (4, 1, 256, 512)\n",
      "filling on}\n"
     ]
    }
   ],
   "source": [
    "dims = sst.dimensions\n",
    "\n",
    "print(dims)\n",
    "\n",
    "vars = ds.variables\n",
    "\n",
    "print(vars)"
   ]
  },
  {
   "cell_type": "markdown",
   "metadata": {
    "pycharm": {
     "name": "#%% md\n"
    }
   },
   "source": [
    "Now extract the slices from each Dataset variable in `vars` matching those in `arr`\n",
    "(i.e. matching the values in slice `[1, 0, 10:20, 30:35]` to the values in list `dims`).\n",
    "\n",
    "Assign them to the following variables:\n",
    "\n",
    "- Assign `time` slice to `arr_time`\n",
    "- Assign `surface` slice to `arr_level`\n",
    "- Assign `latitude` slice to `arr_lats`\n",
    "- Assign `longitude` slice to `arr_lons`\n",
    "\n",
    "Print the four new variables."
   ]
  },
  {
   "cell_type": "code",
   "execution_count": 17,
   "metadata": {
    "collapsed": false,
    "jupyter": {
     "outputs_hidden": false
    },
    "pycharm": {
     "name": "#%%\n"
    }
   },
   "outputs": [
    {
     "name": "stdout",
     "output_type": "stream",
     "text": [
      "0.25\n",
      "0.0\n",
      "[82.45532  81.75363  81.05194  80.350235 79.64853  78.94681  78.245094\n",
      " 77.543365 76.84164  76.13991 ]\n",
      "[21.09375  21.796875 22.5      23.203125 23.90625 ]\n"
     ]
    }
   ],
   "source": [
    "arr_time = vars['time'][1]\n",
    "print(arr_time)\n",
    "arr_level = vars['surface'][0]\n",
    "print(arr_level)\n",
    "arr_lats = vars['latitude'][10:20]\n",
    "print(arr_lats)\n",
    "arr_lons = vars['longitude'][30:35]\n",
    "print(arr_lons)"
   ]
  },
  {
   "cell_type": "markdown",
   "metadata": {},
   "source": [
    "Create an empty dictionary called `metadata`, Loop through the NetCDF Variable attributes of `sst` and copy them into this new dictionary.\n",
    "Use the method as before to get name and value from `sst` and assign them to the key and value of the dictionary.\n",
    "\n",
    "Print the dictionary."
   ]
  },
  {
   "cell_type": "code",
   "execution_count": 18,
   "metadata": {
    "collapsed": false,
    "jupyter": {
     "outputs_hidden": false
    },
    "pycharm": {
     "name": "#%%\n"
    }
   },
   "outputs": [
    {
     "name": "stdout",
     "output_type": "stream",
     "text": [
      "{'long_name': 'Sea surface temperature', 'units': 'K', 'grid_type': 'gaussian', '_FillValue': 2e+20, 'source': 'GRIB data', 'name': 'SSTK', 'title': 'Sea surface temperature', 'date': '12/12/14', 'time': '00:00'}\n"
     ]
    }
   ],
   "source": [
    "metadata = dict()\n",
    "\n",
    "for attr in sst.ncattrs():\n",
    "    metadata[attr] = getattr(sst, attr)\n",
    "\n",
    "print(metadata) \n",
    "\n"
   ]
  },
  {
   "cell_type": "markdown",
   "metadata": {},
   "source": [
    "## Let's write the data/metadata from the previous section to a new NetCDF file\n",
    "\n",
    "In this section, we will define our own Variables, Dimensions, Attributes and save them as a NetCDF file.\n",
    "\n",
    "To start, import numpy as np."
   ]
  },
  {
   "cell_type": "code",
   "execution_count": null,
   "metadata": {
    "collapsed": false,
    "jupyter": {
     "outputs_hidden": false
    },
    "pycharm": {
     "name": "#%%\n"
    }
   },
   "outputs": [],
   "source": []
  },
  {
   "cell_type": "markdown",
   "metadata": {},
   "source": [
    "Open a new netCDF `Dataset` for writing to a file: \"mydata.nc\", specify the `mode` as write with \"w\" and the `format` as \"NETCDF4_CLASSIC\"\n",
    "Assign this to the variable `myds`"
   ]
  },
  {
   "cell_type": "code",
   "execution_count": null,
   "metadata": {
    "collapsed": false,
    "jupyter": {
     "outputs_hidden": false
    },
    "pycharm": {
     "name": "#%%\n"
    }
   },
   "outputs": [],
   "source": [
    "myds = ..."
   ]
  },
  {
   "cell_type": "markdown",
   "metadata": {},
   "source": [
    "Create four new Dimensions to `myds` from your previous slices. Re-use the names from the last section.\n",
    "Note that the \"level\" and \"time\" Dimensions should have length, \"lat\" length 10 and \"lon\" length 5.\n",
    "To create a new Dimension use `myds.createDimension(name, size)`"
   ]
  },
  {
   "cell_type": "code",
   "execution_count": null,
   "metadata": {
    "collapsed": false,
    "jupyter": {
     "outputs_hidden": false
    },
    "pycharm": {
     "name": "#%%\n"
    }
   },
   "outputs": [],
   "source": [
    "time = ...\n",
    "level = ...\n",
    "lat = ...\n",
    "lon = ..."
   ]
  },
  {
   "cell_type": "markdown",
   "metadata": {},
   "source": [
    "Create four Variables from those dimensions and assign them following this example for times:\n",
    "\n",
    "```python\n",
    "times = myds.createVariable('times', np.float64, ('time',))\n",
    "```"
   ]
  },
  {
   "cell_type": "code",
   "execution_count": null,
   "metadata": {
    "collapsed": false,
    "jupyter": {
     "outputs_hidden": false
    },
    "pycharm": {
     "name": "#%%\n"
    }
   },
   "outputs": [],
   "source": [
    "times = ...\n",
    "levels = ...\n",
    "lats = ...\n",
    "lons = ..."
   ]
  },
  {
   "cell_type": "markdown",
   "metadata": {},
   "source": [
    "Create `myvar` as a new Dataset Variable, with id \"temp\", type \"np.float64\", and dimensions: \"time\", \"level\", \"lat\", \"lon\"."
   ]
  },
  {
   "cell_type": "code",
   "execution_count": null,
   "metadata": {
    "collapsed": false,
    "jupyter": {
     "outputs_hidden": false
    },
    "pycharm": {
     "name": "#%%\n"
    }
   },
   "outputs": [],
   "source": [
    "myvar = ..."
   ]
  },
  {
   "cell_type": "markdown",
   "metadata": {},
   "source": [
    "Remove the `_FillValue` value in the `metadata` dictionary.\n",
    "The next step will not work unless we do this.\n",
    "Fill values should be handled when the Variable is created, but we are ignoring that for this example.\n",
    "\n",
    "Use `del` to remove the `_FillValue` from `metadata`"
   ]
  },
  {
   "cell_type": "code",
   "execution_count": null,
   "metadata": {
    "collapsed": false,
    "jupyter": {
     "outputs_hidden": false
    },
    "pycharm": {
     "name": "#%%\n"
    }
   },
   "outputs": [],
   "source": []
  },
  {
   "cell_type": "markdown",
   "metadata": {
    "pycharm": {
     "name": "#%% md\n"
    }
   },
   "source": [
    "Write Variable attributes from the key/value pairs found in the input data (held in the `metadata` dictionary) to `myvar`.\n",
    "Use `myvar.setncattr(key, value)` to write attributes to the Dataset.\n",
    "\n",
    "Write one more global attribute \"source\" to `myds`. Set the attribute `source` to the value \"super dataset\".\n",
    "Use `myds.source` to create and set the value to the global attribute."
   ]
  },
  {
   "cell_type": "code",
   "execution_count": null,
   "metadata": {
    "collapsed": false,
    "jupyter": {
     "outputs_hidden": false
    },
    "pycharm": {
     "name": "#%%\n"
    }
   },
   "outputs": [],
   "source": [
    "\n"
   ]
  },
  {
   "cell_type": "markdown",
   "metadata": {
    "pycharm": {
     "name": "#%% md\n"
    }
   },
   "source": [
    "Assign the `arr` array from before to `myvar[:]`\n",
    "\n",
    "Write some data values to each of your four spatio-temporal variables you created.\n",
    "Use simple lists of integers for these.\n",
    "Make sure they are the right length matching the slices from the previous section,\n",
    "use the index `[:]` on your `myds` Variables and assign the created array variables to them.\n",
    "\n",
    "Lastly close the Dataset, `myds`, to save the file."
   ]
  },
  {
   "cell_type": "code",
   "execution_count": null,
   "metadata": {
    "collapsed": false,
    "jupyter": {
     "outputs_hidden": false
    },
    "pycharm": {
     "name": "#%%\n"
    }
   },
   "outputs": [],
   "source": [
    "myvar[:] = ...\n",
    "\n",
    "\n",
    "\n"
   ]
  },
  {
   "cell_type": "markdown",
   "metadata": {},
   "source": [
    "To view the file contents, you can use the Jasmin service to run the `$ ncdump mydata.nc` command from the directory where the file is saved. Alternatively, you can call out to the linux shell from a Notebook, using: \n",
    "\n",
    "```\n",
    "!ncdump mydata.nc\n",
    "```"
   ]
  },
  {
   "cell_type": "code",
   "execution_count": null,
   "metadata": {},
   "outputs": [],
   "source": []
  }
 ],
 "metadata": {
  "kernelspec": {
   "display_name": "Python 3 + Jaspy",
   "language": "python",
   "name": "jaspy"
  },
  "language_info": {
   "codemirror_mode": {
    "name": "ipython",
    "version": 3
   },
   "file_extension": ".py",
   "mimetype": "text/x-python",
   "name": "python",
   "nbconvert_exporter": "python",
   "pygments_lexer": "ipython3",
   "version": "3.10.5"
  }
 },
 "nbformat": 4,
 "nbformat_minor": 4
}
