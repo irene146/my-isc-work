{
 "cells": [
  {
   "attachments": {},
   "cell_type": "markdown",
   "metadata": {
    "pycharm": {
     "name": "#%% md\n"
    }
   },
   "source": [
    "# Exercise: Weather API\n",
    "\n",
    "## Aim: Use a Weather API to create and graph NetCDF files\n",
    "\n",
    "### Issues covered:\n",
    "\n",
    "- Request and get data from a weather API service\n",
    "- Read and retrieve information from a JSON response\n",
    "- Write contents to a NetCDF file\n",
    "- Read a collection of NetCDF files and plot a time series graph\n",
    "\n",
    "## 1. Let's get data from a web API on the internet\n",
    "\n",
    "We will use the NOAA National Weather Service in the US as our data source:\n",
    "\n",
    "![](https://www.weather.gov/css/images/header.png)\n",
    "\n",
    "The service has a web API that allows you to request forecast data for a given grid point in the USA. Details of the API are documented at:\n",
    "\n",
    "https://www.weather.gov/documentation/services-web-api\n",
    "\n",
    "Use the endpoint `https://api.weather.gov/` as the base URL.\n",
    "\n",
    "Firstly, we want to get a grid ID and based on some latitude/longitude coordinates. To do so we will use the `points/{latitude,longitude}` endpoint of the API.\n",
    "\n",
    "**Choose the latitude and longitude of your favourite US location (this API is US only and in latitude North, longitude East). The extent of the USA is approximately:**\n",
    "- Longitude: -120, -80\n",
    "- Latitude:  30, 48\n",
    "\n",
    "Once you have queried the `points` API you will get back a `grid ID` (`GridId`). The `grid ID`h can be used to get a weather forecast for your location of interest, using the `gridpoints/{grid ID}/{grid co-ordinates}` endpoint."
   ]
  },
  {
   "cell_type": "markdown",
   "metadata": {},
   "source": [
    "Import the `requests` library which is great for downloading content from external URLs."
   ]
  },
  {
   "cell_type": "code",
   "execution_count": 37,
   "metadata": {
    "collapsed": false,
    "jupyter": {
     "outputs_hidden": false
    },
    "pycharm": {
     "name": "#%%\n"
    }
   },
   "outputs": [],
   "source": [
    "import requests"
   ]
  },
  {
   "cell_type": "markdown",
   "metadata": {
    "pycharm": {
     "name": "#%% md\n"
    }
   },
   "source": [
    "You can use the requests library to access the web API. Fill in the elipses with the `latitude` (degrees North) and `longitude` (degrees East, so use negative value) of a location in the US. \n",
    "If successful, the response code should be 200."
   ]
  },
  {
   "cell_type": "code",
   "execution_count": 38,
   "metadata": {},
   "outputs": [
    {
     "data": {
      "text/plain": [
       "200"
      ]
     },
     "execution_count": 38,
     "metadata": {},
     "output_type": "execute_result"
    }
   ],
   "source": [
    "url = 'https://api.weather.gov/'\n",
    "latitude = 40.014984 \n",
    "longitude = -105.270546\n",
    "\n",
    "# Hint: use the requests library to GET from the url: https://api.weather.gov/points/{LAT},{LON}\n",
    "response = requests.get(f'{url}points/{latitude},{longitude}')\n",
    "response.status_code"
   ]
  },
  {
   "attachments": {},
   "cell_type": "markdown",
   "metadata": {},
   "source": [
    "With the requests library, the results from the webAPI can be extracted into in JSON format. A JSON document behaves exactly like a dictionary.\n",
    "\n",
    "Use dictionary indexing to extract the values of the grid ID and the X/Y coordinates:\n",
    "\n",
    "- get `gridID`\n",
    "- get `gridX`\n",
    "- get `gridY`"
   ]
  },
  {
   "cell_type": "code",
   "execution_count": 39,
   "metadata": {
    "pycharm": {
     "name": "#%%\n"
    },
    "scrolled": true
   },
   "outputs": [],
   "source": [
    "# hint: you can view the JSON by pasting the URL directly into your browser address bar\n",
    "\n",
    "response = response.json()\n",
    "gridID = response['properties']['gridId']\n",
    "gridX = response['properties']['gridX']\n",
    "gridY = response['properties']['gridY']\n",
    "\n",
    "\n"
   ]
  },
  {
   "cell_type": "markdown",
   "metadata": {},
   "source": [
    "With your `gridID`, `gridX`, and `gridY`, use the `gridpoints` API endpoint to request a weather forecast for that location. Print the status code.\n",
    "If everything is working, you should get another 200 status code."
   ]
  },
  {
   "cell_type": "code",
   "execution_count": 40,
   "metadata": {
    "collapsed": false,
    "jupyter": {
     "outputs_hidden": false
    },
    "pycharm": {
     "name": "#%%\n"
    }
   },
   "outputs": [
    {
     "data": {
      "text/plain": [
       "200"
      ]
     },
     "execution_count": 40,
     "metadata": {},
     "output_type": "execute_result"
    }
   ],
   "source": [
    "response = requests.get(f'{url}gridpoints/{gridID}/{gridX},{gridY}')\n",
    "response.status_code"
   ]
  },
  {
   "cell_type": "markdown",
   "metadata": {},
   "source": [
    "Can you use the JSON response data to get the forecast temperature values? Use dictionary indexing to get the `values` from `temperature` in `properties`."
   ]
  },
  {
   "cell_type": "code",
   "execution_count": 41,
   "metadata": {},
   "outputs": [],
   "source": [
    "data = response.json()\n",
    "forecast = data['properties']['temperature']['values']"
   ]
  },
  {
   "cell_type": "code",
   "execution_count": 42,
   "metadata": {
    "scrolled": true
   },
   "outputs": [
    {
     "data": {
      "text/plain": [
       "[{'validTime': '2023-11-17T03:00:00+00:00/PT1H', 'value': 10},\n",
       " {'validTime': '2023-11-17T04:00:00+00:00/PT1H', 'value': 8.88888888888889},\n",
       " {'validTime': '2023-11-17T05:00:00+00:00/PT1H', 'value': 8.333333333333334},\n",
       " {'validTime': '2023-11-17T06:00:00+00:00/PT1H', 'value': 6.666666666666667},\n",
       " {'validTime': '2023-11-17T07:00:00+00:00/PT1H', 'value': 5.555555555555555},\n",
       " {'validTime': '2023-11-17T08:00:00+00:00/PT1H', 'value': 6.111111111111111},\n",
       " {'validTime': '2023-11-17T09:00:00+00:00/PT1H', 'value': 5},\n",
       " {'validTime': '2023-11-17T10:00:00+00:00/PT1H', 'value': 4.444444444444445},\n",
       " {'validTime': '2023-11-17T11:00:00+00:00/PT4H', 'value': 3.888888888888889},\n",
       " {'validTime': '2023-11-17T15:00:00+00:00/PT1H', 'value': 6.111111111111111},\n",
       " {'validTime': '2023-11-17T16:00:00+00:00/PT1H', 'value': 10},\n",
       " {'validTime': '2023-11-17T17:00:00+00:00/PT1H', 'value': 11.666666666666666},\n",
       " {'validTime': '2023-11-17T18:00:00+00:00/PT1H', 'value': 13.333333333333334},\n",
       " {'validTime': '2023-11-17T19:00:00+00:00/PT1H', 'value': 15},\n",
       " {'validTime': '2023-11-17T20:00:00+00:00/PT2H', 'value': 15.555555555555555},\n",
       " {'validTime': '2023-11-17T22:00:00+00:00/PT1H', 'value': 16.11111111111111},\n",
       " {'validTime': '2023-11-17T23:00:00+00:00/PT1H', 'value': 14.444444444444445},\n",
       " {'validTime': '2023-11-18T00:00:00+00:00/PT1H', 'value': 12.222222222222221},\n",
       " {'validTime': '2023-11-18T01:00:00+00:00/PT1H', 'value': 10.555555555555555},\n",
       " {'validTime': '2023-11-18T02:00:00+00:00/PT1H', 'value': 7.222222222222222},\n",
       " {'validTime': '2023-11-18T03:00:00+00:00/PT2H', 'value': 6.666666666666667},\n",
       " {'validTime': '2023-11-18T05:00:00+00:00/PT2H', 'value': 5.555555555555555},\n",
       " {'validTime': '2023-11-18T07:00:00+00:00/PT2H', 'value': 5},\n",
       " {'validTime': '2023-11-18T09:00:00+00:00/PT1H', 'value': 3.888888888888889},\n",
       " {'validTime': '2023-11-18T10:00:00+00:00/PT1H', 'value': 3.3333333333333335},\n",
       " {'validTime': '2023-11-18T11:00:00+00:00/PT4H', 'value': 2.7777777777777777},\n",
       " {'validTime': '2023-11-18T15:00:00+00:00/PT1H', 'value': 5},\n",
       " {'validTime': '2023-11-18T16:00:00+00:00/PT1H', 'value': 8.88888888888889},\n",
       " {'validTime': '2023-11-18T17:00:00+00:00/PT1H', 'value': 11.11111111111111},\n",
       " {'validTime': '2023-11-18T18:00:00+00:00/PT1H', 'value': 13.88888888888889},\n",
       " {'validTime': '2023-11-18T19:00:00+00:00/PT1H', 'value': 14.444444444444445},\n",
       " {'validTime': '2023-11-18T20:00:00+00:00/PT1H', 'value': 15},\n",
       " {'validTime': '2023-11-18T21:00:00+00:00/PT1H', 'value': 15.555555555555555},\n",
       " {'validTime': '2023-11-18T22:00:00+00:00/PT1H', 'value': 15},\n",
       " {'validTime': '2023-11-18T23:00:00+00:00/PT1H', 'value': 13.88888888888889},\n",
       " {'validTime': '2023-11-19T00:00:00+00:00/PT1H', 'value': 12.222222222222221},\n",
       " {'validTime': '2023-11-19T01:00:00+00:00/PT1H', 'value': 10.555555555555555},\n",
       " {'validTime': '2023-11-19T02:00:00+00:00/PT1H', 'value': 8.88888888888889},\n",
       " {'validTime': '2023-11-19T03:00:00+00:00/PT1H', 'value': 7.777777777777778},\n",
       " {'validTime': '2023-11-19T04:00:00+00:00/PT3H', 'value': 7.222222222222222},\n",
       " {'validTime': '2023-11-19T07:00:00+00:00/PT1H', 'value': 6.666666666666667},\n",
       " {'validTime': '2023-11-19T08:00:00+00:00/PT1H', 'value': 6.111111111111111},\n",
       " {'validTime': '2023-11-19T09:00:00+00:00/PT1H', 'value': 5},\n",
       " {'validTime': '2023-11-19T10:00:00+00:00/PT4H', 'value': 4.444444444444445},\n",
       " {'validTime': '2023-11-19T14:00:00+00:00/PT1H', 'value': 5},\n",
       " {'validTime': '2023-11-19T15:00:00+00:00/PT1H', 'value': 6.111111111111111},\n",
       " {'validTime': '2023-11-19T16:00:00+00:00/PT1H', 'value': 8.333333333333334},\n",
       " {'validTime': '2023-11-19T17:00:00+00:00/PT1H', 'value': 10},\n",
       " {'validTime': '2023-11-19T18:00:00+00:00/PT1H', 'value': 12.222222222222221},\n",
       " {'validTime': '2023-11-19T19:00:00+00:00/PT1H', 'value': 13.333333333333334},\n",
       " {'validTime': '2023-11-19T20:00:00+00:00/PT2H', 'value': 13.88888888888889},\n",
       " {'validTime': '2023-11-19T22:00:00+00:00/PT1H', 'value': 12.777777777777779},\n",
       " {'validTime': '2023-11-19T23:00:00+00:00/PT1H', 'value': 11.666666666666666},\n",
       " {'validTime': '2023-11-20T00:00:00+00:00/PT1H', 'value': 10},\n",
       " {'validTime': '2023-11-20T01:00:00+00:00/PT1H', 'value': 8.333333333333334},\n",
       " {'validTime': '2023-11-20T02:00:00+00:00/PT1H', 'value': 7.222222222222222},\n",
       " {'validTime': '2023-11-20T03:00:00+00:00/PT1H', 'value': 6.111111111111111},\n",
       " {'validTime': '2023-11-20T04:00:00+00:00/PT1H', 'value': 5.555555555555555},\n",
       " {'validTime': '2023-11-20T05:00:00+00:00/PT1H', 'value': 5},\n",
       " {'validTime': '2023-11-20T06:00:00+00:00/PT1H', 'value': 4.444444444444445},\n",
       " {'validTime': '2023-11-20T07:00:00+00:00/PT1H', 'value': 3.888888888888889},\n",
       " {'validTime': '2023-11-20T08:00:00+00:00/PT1H', 'value': 3.3333333333333335},\n",
       " {'validTime': '2023-11-20T09:00:00+00:00/PT1H', 'value': 2.7777777777777777},\n",
       " {'validTime': '2023-11-20T10:00:00+00:00/PT1H', 'value': 2.2222222222222223},\n",
       " {'validTime': '2023-11-20T11:00:00+00:00/PT1H', 'value': 1.6666666666666667},\n",
       " {'validTime': '2023-11-20T12:00:00+00:00/PT1H', 'value': 1.1111111111111112},\n",
       " {'validTime': '2023-11-20T13:00:00+00:00/PT1H', 'value': 1.6666666666666667},\n",
       " {'validTime': '2023-11-20T14:00:00+00:00/PT1H', 'value': 2.2222222222222223},\n",
       " {'validTime': '2023-11-20T15:00:00+00:00/PT1H', 'value': 2.7777777777777777},\n",
       " {'validTime': '2023-11-20T16:00:00+00:00/PT1H', 'value': 3.888888888888889},\n",
       " {'validTime': '2023-11-20T17:00:00+00:00/PT1H', 'value': 5.555555555555555},\n",
       " {'validTime': '2023-11-20T18:00:00+00:00/PT1H', 'value': 6.666666666666667},\n",
       " {'validTime': '2023-11-20T19:00:00+00:00/PT1H', 'value': 7.222222222222222},\n",
       " {'validTime': '2023-11-20T20:00:00+00:00/PT1H', 'value': 7.777777777777778},\n",
       " {'validTime': '2023-11-20T21:00:00+00:00/PT1H', 'value': 8.333333333333334},\n",
       " {'validTime': '2023-11-20T22:00:00+00:00/PT1H', 'value': 7.777777777777778},\n",
       " {'validTime': '2023-11-20T23:00:00+00:00/PT1H', 'value': 7.222222222222222},\n",
       " {'validTime': '2023-11-21T00:00:00+00:00/PT1H', 'value': 6.111111111111111},\n",
       " {'validTime': '2023-11-21T01:00:00+00:00/PT1H', 'value': 5},\n",
       " {'validTime': '2023-11-21T02:00:00+00:00/PT1H', 'value': 3.3333333333333335},\n",
       " {'validTime': '2023-11-21T03:00:00+00:00/PT1H', 'value': 2.2222222222222223},\n",
       " {'validTime': '2023-11-21T04:00:00+00:00/PT1H', 'value': 1.6666666666666667},\n",
       " {'validTime': '2023-11-21T05:00:00+00:00/PT1H', 'value': 1.1111111111111112},\n",
       " {'validTime': '2023-11-21T06:00:00+00:00/PT1H', 'value': 0.5555555555555556},\n",
       " {'validTime': '2023-11-21T07:00:00+00:00/PT1H', 'value': 0},\n",
       " {'validTime': '2023-11-21T08:00:00+00:00/PT1H', 'value': -0.5555555555555556},\n",
       " {'validTime': '2023-11-21T09:00:00+00:00/PT1H', 'value': -1.1111111111111112},\n",
       " {'validTime': '2023-11-21T10:00:00+00:00/PT1H', 'value': -1.6666666666666667},\n",
       " {'validTime': '2023-11-21T11:00:00+00:00/PT3H', 'value': -2.2222222222222223},\n",
       " {'validTime': '2023-11-21T14:00:00+00:00/PT1H', 'value': -1.1111111111111112},\n",
       " {'validTime': '2023-11-21T15:00:00+00:00/PT1H', 'value': 0.5555555555555556},\n",
       " {'validTime': '2023-11-21T16:00:00+00:00/PT1H', 'value': 2.7777777777777777},\n",
       " {'validTime': '2023-11-21T17:00:00+00:00/PT1H', 'value': 6.111111111111111},\n",
       " {'validTime': '2023-11-21T18:00:00+00:00/PT1H', 'value': 8.333333333333334},\n",
       " {'validTime': '2023-11-21T19:00:00+00:00/PT1H', 'value': 10.555555555555555},\n",
       " {'validTime': '2023-11-21T20:00:00+00:00/PT2H', 'value': 11.666666666666666},\n",
       " {'validTime': '2023-11-21T22:00:00+00:00/PT1H', 'value': 11.11111111111111},\n",
       " {'validTime': '2023-11-21T23:00:00+00:00/PT1H', 'value': 10},\n",
       " {'validTime': '2023-11-22T00:00:00+00:00/PT1H', 'value': 8.333333333333334},\n",
       " {'validTime': '2023-11-22T01:00:00+00:00/PT1H', 'value': 6.666666666666667},\n",
       " {'validTime': '2023-11-22T02:00:00+00:00/PT1H', 'value': 5.555555555555555},\n",
       " {'validTime': '2023-11-22T03:00:00+00:00/PT1H', 'value': 4.444444444444445},\n",
       " {'validTime': '2023-11-22T04:00:00+00:00/PT1H', 'value': 3.888888888888889},\n",
       " {'validTime': '2023-11-22T05:00:00+00:00/PT1H', 'value': 3.3333333333333335},\n",
       " {'validTime': '2023-11-22T06:00:00+00:00/PT1H', 'value': 2.7777777777777777},\n",
       " {'validTime': '2023-11-22T07:00:00+00:00/PT1H', 'value': 2.2222222222222223},\n",
       " {'validTime': '2023-11-22T08:00:00+00:00/PT1H', 'value': 1.6666666666666667},\n",
       " {'validTime': '2023-11-22T09:00:00+00:00/PT1H', 'value': 0.5555555555555556},\n",
       " {'validTime': '2023-11-22T10:00:00+00:00/PT1H', 'value': 0},\n",
       " {'validTime': '2023-11-22T11:00:00+00:00/PT2H', 'value': -0.5555555555555556},\n",
       " {'validTime': '2023-11-22T13:00:00+00:00/PT1H', 'value': 0},\n",
       " {'validTime': '2023-11-22T14:00:00+00:00/PT1H', 'value': 1.1111111111111112},\n",
       " {'validTime': '2023-11-22T15:00:00+00:00/PT1H', 'value': 2.2222222222222223},\n",
       " {'validTime': '2023-11-22T16:00:00+00:00/PT1H', 'value': 4.444444444444445},\n",
       " {'validTime': '2023-11-22T17:00:00+00:00/PT1H', 'value': 6.111111111111111},\n",
       " {'validTime': '2023-11-22T18:00:00+00:00/PT1H', 'value': 8.333333333333334},\n",
       " {'validTime': '2023-11-22T19:00:00+00:00/PT1H', 'value': 9.444444444444445},\n",
       " {'validTime': '2023-11-22T20:00:00+00:00/PT2H', 'value': 10},\n",
       " {'validTime': '2023-11-22T22:00:00+00:00/PT1H', 'value': 9.444444444444445},\n",
       " {'validTime': '2023-11-22T23:00:00+00:00/PT1H', 'value': 8.333333333333334},\n",
       " {'validTime': '2023-11-23T00:00:00+00:00/PT1H', 'value': 6.666666666666667},\n",
       " {'validTime': '2023-11-23T01:00:00+00:00/PT1H', 'value': 5.555555555555555},\n",
       " {'validTime': '2023-11-23T02:00:00+00:00/PT1H', 'value': 3.888888888888889},\n",
       " {'validTime': '2023-11-23T03:00:00+00:00/PT1H', 'value': 2.7777777777777777},\n",
       " {'validTime': '2023-11-23T04:00:00+00:00/PT1H', 'value': 1.6666666666666667},\n",
       " {'validTime': '2023-11-23T05:00:00+00:00/PT1H', 'value': 1.1111111111111112},\n",
       " {'validTime': '2023-11-23T06:00:00+00:00/PT1H', 'value': 0.5555555555555556},\n",
       " {'validTime': '2023-11-23T07:00:00+00:00/PT1H', 'value': 0},\n",
       " {'validTime': '2023-11-23T08:00:00+00:00/PT1H', 'value': -0.5555555555555556},\n",
       " {'validTime': '2023-11-23T09:00:00+00:00/PT1H', 'value': -1.1111111111111112},\n",
       " {'validTime': '2023-11-23T10:00:00+00:00/PT1H', 'value': -2.2222222222222223},\n",
       " {'validTime': '2023-11-23T11:00:00+00:00/PT1H', 'value': -2.7777777777777777},\n",
       " {'validTime': '2023-11-23T12:00:00+00:00/PT2H', 'value': -3.3333333333333335},\n",
       " {'validTime': '2023-11-23T14:00:00+00:00/PT1H', 'value': -2.7777777777777777},\n",
       " {'validTime': '2023-11-23T15:00:00+00:00/PT1H', 'value': -1.6666666666666667},\n",
       " {'validTime': '2023-11-23T16:00:00+00:00/PT1H', 'value': -0.5555555555555556},\n",
       " {'validTime': '2023-11-23T17:00:00+00:00/PT1H', 'value': 1.1111111111111112},\n",
       " {'validTime': '2023-11-23T18:00:00+00:00/PT1H', 'value': 2.2222222222222223},\n",
       " {'validTime': '2023-11-23T19:00:00+00:00/PT1H', 'value': 3.3333333333333335},\n",
       " {'validTime': '2023-11-23T20:00:00+00:00/PT1H', 'value': 4.444444444444445},\n",
       " {'validTime': '2023-11-23T21:00:00+00:00/PT1H', 'value': 5},\n",
       " {'validTime': '2023-11-23T22:00:00+00:00/PT1H', 'value': 4.444444444444445},\n",
       " {'validTime': '2023-11-23T23:00:00+00:00/PT1H', 'value': 3.3333333333333335},\n",
       " {'validTime': '2023-11-24T00:00:00+00:00/PT1H', 'value': 2.2222222222222223},\n",
       " {'validTime': '2023-11-24T01:00:00+00:00/PT1H', 'value': 0.5555555555555556},\n",
       " {'validTime': '2023-11-24T02:00:00+00:00/PT1H', 'value': -1.1111111111111112},\n",
       " {'validTime': '2023-11-24T03:00:00+00:00/PT1H', 'value': -2.2222222222222223},\n",
       " {'validTime': '2023-11-24T04:00:00+00:00/PT1H', 'value': -2.7777777777777777},\n",
       " {'validTime': '2023-11-24T05:00:00+00:00/PT2H', 'value': -3.3333333333333335},\n",
       " {'validTime': '2023-11-24T07:00:00+00:00/PT2H', 'value': -3.888888888888889},\n",
       " {'validTime': '2023-11-24T09:00:00+00:00/PT1H', 'value': -4.444444444444445},\n",
       " {'validTime': '2023-11-24T10:00:00+00:00/PT1H', 'value': -5},\n",
       " {'validTime': '2023-11-24T11:00:00+00:00/PT2H', 'value': -5.555555555555555},\n",
       " {'validTime': '2023-11-24T13:00:00+00:00/PT2H', 'value': -6.111111111111111},\n",
       " {'validTime': '2023-11-24T15:00:00+00:00/PT1H', 'value': -5.555555555555555},\n",
       " {'validTime': '2023-11-24T16:00:00+00:00/PT1H', 'value': -5},\n",
       " {'validTime': '2023-11-24T17:00:00+00:00/PT1H', 'value': -3.888888888888889},\n",
       " {'validTime': '2023-11-24T18:00:00+00:00/PT1H', 'value': -2.7777777777777777},\n",
       " {'validTime': '2023-11-24T19:00:00+00:00/PT1H', 'value': -1.6666666666666667},\n",
       " {'validTime': '2023-11-24T20:00:00+00:00/PT3H', 'value': -1.1111111111111112},\n",
       " {'validTime': '2023-11-24T23:00:00+00:00/PT1H', 'value': -2.2222222222222223},\n",
       " {'validTime': '2023-11-25T00:00:00+00:00/PT1H', 'value': -3.3333333333333335}]"
      ]
     },
     "execution_count": 42,
     "metadata": {},
     "output_type": "execute_result"
    }
   ],
   "source": [
    "forecast"
   ]
  },
  {
   "attachments": {},
   "cell_type": "markdown",
   "metadata": {},
   "source": [
    "The below code extracts the coordinates of the grid box you have chosen."
   ]
  },
  {
   "cell_type": "code",
   "execution_count": 43,
   "metadata": {},
   "outputs": [],
   "source": [
    "\n",
    "coords = data['geometry']['coordinates'][0][0] #last brackets jsu trefer to the list inside the dictionary \n",
    "x = coords[1]\n",
    "y = coords[0]\n",
    "\n"
   ]
  },
  {
   "cell_type": "markdown",
   "metadata": {},
   "source": [
    "## 2. Let's format that data and write it to NetCDF\n",
    "\n",
    "### Formatting the data\n",
    "\n",
    "First, format your forecast data to get the datetime and air temperature as separate\n",
    "lists."
   ]
  },
  {
   "cell_type": "code",
   "execution_count": 44,
   "metadata": {
    "collapsed": false,
    "jupyter": {
     "outputs_hidden": false
    },
    "pycharm": {
     "name": "#%%\n"
    }
   },
   "outputs": [],
   "source": [
    "from datetime import datetime as dt"
   ]
  },
  {
   "cell_type": "markdown",
   "metadata": {},
   "source": [
    "Loop through your `forecast` values and get the temperatures (`value`) and datetimes (`validTime`) into a list.\n",
    "`forecast` is a list of dictionaries, where each dictionary is of one time instance.\n",
    "Fill in the ellipses to format each `validTime` string to a python `datetime` object and assign and set to the variable `date`. Get each `value` and assign to the variable `temp`. These values will then be appended to the `temps` and `timeseries` lists."
   ]
  },
  {
   "cell_type": "code",
   "execution_count": 45,
   "metadata": {
    "pycharm": {
     "name": "#%%\n"
    },
    "scrolled": true,
    "tags": []
   },
   "outputs": [
    {
     "data": {
      "text/plain": [
       "list"
      ]
     },
     "execution_count": 45,
     "metadata": {},
     "output_type": "execute_result"
    }
   ],
   "source": [
    "# Use the datetime module to convert the times from the data to a datetime object.\n",
    "# Hint: look at the validTime string and see how you can turn the string to datetime\n",
    "# using strptime, the format of the datetime is: '%Y-%m-%dT%H:%M:%Sz'.\n",
    "\n",
    "timeseries = []\n",
    "temps = []\n",
    "\n",
    "for item in forecast:\n",
    "    date = item['validTime']\n",
    "    date = dt.strptime(date.split('/')[0], '%Y-%m-%dT%H:%M:%S%z')\n",
    "    temp = item['value']\n",
    "    timeseries.append(date)\n",
    "    temps.append(temp)\n",
    "\n",
    "type(timeseries)\n"
   ]
  },
  {
   "attachments": {},
   "cell_type": "markdown",
   "metadata": {},
   "source": [
    "Format the `timeseries` list and convert it to relative time in seconds from the start of the timeseries. When using NetCDF and the CF Metadata Conventions time is stored as an offset from a base time rather than an absolute times.\n",
    "\n",
    "If you are stuck, take look at the 'Time series' slide in the [logging data from serial ports](https://github.com/ncasuk/ncas-isc/raw/68abbfd3a573e576c32fc127fafc874bfff98b1e/python/presentations/logging-data-from-serial-ports/LDFSP_Slides.pdf) presentation."
   ]
  },
  {
   "cell_type": "code",
   "execution_count": 89,
   "metadata": {
    "pycharm": {
     "name": "#%%\n"
    },
    "scrolled": true
   },
   "outputs": [
    {
     "data": {
      "text/plain": [
       "[0.0,\n",
       " 3600.0,\n",
       " 7200.0,\n",
       " 10800.0,\n",
       " 14400.0,\n",
       " 18000.0,\n",
       " 21600.0,\n",
       " 25200.0,\n",
       " 28800.0,\n",
       " 43200.0,\n",
       " 46800.0,\n",
       " 50400.0,\n",
       " 54000.0,\n",
       " 57600.0,\n",
       " 61200.0,\n",
       " 68400.0,\n",
       " 72000.0,\n",
       " 75600.0,\n",
       " 79200.0,\n",
       " 82800.0,\n",
       " 86400.0,\n",
       " 93600.0,\n",
       " 100800.0,\n",
       " 108000.0,\n",
       " 111600.0,\n",
       " 115200.0,\n",
       " 129600.0,\n",
       " 133200.0,\n",
       " 136800.0,\n",
       " 140400.0,\n",
       " 144000.0,\n",
       " 147600.0,\n",
       " 151200.0,\n",
       " 154800.0,\n",
       " 158400.0,\n",
       " 162000.0,\n",
       " 165600.0,\n",
       " 169200.0,\n",
       " 172800.0,\n",
       " 176400.0,\n",
       " 187200.0,\n",
       " 190800.0,\n",
       " 194400.0,\n",
       " 198000.0,\n",
       " 212400.0,\n",
       " 216000.0,\n",
       " 219600.0,\n",
       " 223200.0,\n",
       " 226800.0,\n",
       " 230400.0,\n",
       " 234000.0,\n",
       " 241200.0,\n",
       " 244800.0,\n",
       " 248400.0,\n",
       " 252000.0,\n",
       " 255600.0,\n",
       " 259200.0,\n",
       " 262800.0,\n",
       " 266400.0,\n",
       " 270000.0,\n",
       " 273600.0,\n",
       " 277200.0,\n",
       " 280800.0,\n",
       " 284400.0,\n",
       " 288000.0,\n",
       " 291600.0,\n",
       " 295200.0,\n",
       " 298800.0,\n",
       " 302400.0,\n",
       " 306000.0,\n",
       " 309600.0,\n",
       " 313200.0,\n",
       " 316800.0,\n",
       " 320400.0,\n",
       " 324000.0,\n",
       " 327600.0,\n",
       " 331200.0,\n",
       " 334800.0,\n",
       " 338400.0,\n",
       " 342000.0,\n",
       " 345600.0,\n",
       " 349200.0,\n",
       " 352800.0,\n",
       " 356400.0,\n",
       " 360000.0,\n",
       " 363600.0,\n",
       " 367200.0,\n",
       " 370800.0,\n",
       " 374400.0,\n",
       " 385200.0,\n",
       " 388800.0,\n",
       " 392400.0,\n",
       " 396000.0,\n",
       " 399600.0,\n",
       " 403200.0,\n",
       " 406800.0,\n",
       " 414000.0,\n",
       " 417600.0,\n",
       " 421200.0,\n",
       " 424800.0,\n",
       " 428400.0,\n",
       " 432000.0,\n",
       " 435600.0,\n",
       " 439200.0,\n",
       " 442800.0,\n",
       " 446400.0,\n",
       " 450000.0,\n",
       " 453600.0,\n",
       " 457200.0,\n",
       " 460800.0,\n",
       " 468000.0,\n",
       " 471600.0,\n",
       " 475200.0,\n",
       " 478800.0,\n",
       " 482400.0,\n",
       " 486000.0,\n",
       " 489600.0,\n",
       " 493200.0,\n",
       " 500400.0,\n",
       " 504000.0,\n",
       " 507600.0,\n",
       " 511200.0,\n",
       " 514800.0,\n",
       " 518400.0,\n",
       " 522000.0,\n",
       " 525600.0,\n",
       " 529200.0,\n",
       " 532800.0,\n",
       " 536400.0,\n",
       " 540000.0,\n",
       " 543600.0,\n",
       " 547200.0,\n",
       " 550800.0,\n",
       " 558000.0,\n",
       " 561600.0,\n",
       " 565200.0,\n",
       " 568800.0,\n",
       " 572400.0,\n",
       " 576000.0,\n",
       " 579600.0,\n",
       " 583200.0,\n",
       " 586800.0,\n",
       " 590400.0,\n",
       " 594000.0,\n",
       " 597600.0,\n",
       " 601200.0,\n",
       " 604800.0,\n",
       " 608400.0,\n",
       " 612000.0,\n",
       " 619200.0,\n",
       " 626400.0,\n",
       " 630000.0,\n",
       " 633600.0,\n",
       " 640800.0,\n",
       " 648000.0,\n",
       " 651600.0,\n",
       " 655200.0,\n",
       " 658800.0,\n",
       " 662400.0,\n",
       " 666000.0,\n",
       " 676800.0,\n",
       " 680400.0]"
      ]
     },
     "execution_count": 89,
     "metadata": {},
     "output_type": "execute_result"
    }
   ],
   "source": [
    "base_time = timeseries[0]\n",
    "time_values = []\n",
    "for t in timeseries:\n",
    "        value = t - base_time\n",
    "        ts = value.total_seconds()\n",
    "        time_values.append(ts)\n",
    "    \n",
    "time_units = 'seconds since '+base_time.strftime('%Y-%m-%d %H:%M:%S')\n",
    "\n",
    "\n",
    "time_values"
   ]
  },
  {
   "cell_type": "markdown",
   "metadata": {
    "pycharm": {
     "name": "#%% md\n"
    }
   },
   "source": [
    "Convert the `temps` list from degrees C to Kelvin. As per the CF Conventions, the canonical units for Air Temperature is K. Create a new list, called `temp_values`, which is the temperature in Kelvin."
   ]
  },
  {
   "cell_type": "code",
   "execution_count": 90,
   "metadata": {
    "collapsed": false,
    "jupyter": {
     "outputs_hidden": false
    },
    "pycharm": {
     "name": "#%%\n"
    },
    "scrolled": true
   },
   "outputs": [
    {
     "data": {
      "text/plain": [
       "[283,\n",
       " 281.8888888888889,\n",
       " 281.3333333333333,\n",
       " 279.6666666666667,\n",
       " 278.55555555555554,\n",
       " 279.1111111111111,\n",
       " 278,\n",
       " 277.44444444444446,\n",
       " 276.8888888888889,\n",
       " 279.1111111111111,\n",
       " 283,\n",
       " 284.6666666666667,\n",
       " 286.3333333333333,\n",
       " 288,\n",
       " 288.55555555555554,\n",
       " 289.1111111111111,\n",
       " 287.44444444444446,\n",
       " 285.22222222222223,\n",
       " 283.55555555555554,\n",
       " 280.22222222222223,\n",
       " 279.6666666666667,\n",
       " 278.55555555555554,\n",
       " 278,\n",
       " 276.8888888888889,\n",
       " 276.3333333333333,\n",
       " 275.77777777777777,\n",
       " 278,\n",
       " 281.8888888888889,\n",
       " 284.1111111111111,\n",
       " 286.8888888888889,\n",
       " 287.44444444444446,\n",
       " 288,\n",
       " 288.55555555555554,\n",
       " 288,\n",
       " 286.8888888888889,\n",
       " 285.22222222222223,\n",
       " 283.55555555555554,\n",
       " 281.8888888888889,\n",
       " 280.77777777777777,\n",
       " 280.22222222222223,\n",
       " 279.6666666666667,\n",
       " 279.1111111111111,\n",
       " 278,\n",
       " 277.44444444444446,\n",
       " 278,\n",
       " 279.1111111111111,\n",
       " 281.3333333333333,\n",
       " 283,\n",
       " 285.22222222222223,\n",
       " 286.3333333333333,\n",
       " 286.8888888888889,\n",
       " 285.77777777777777,\n",
       " 284.6666666666667,\n",
       " 283,\n",
       " 281.3333333333333,\n",
       " 280.22222222222223,\n",
       " 279.1111111111111,\n",
       " 278.55555555555554,\n",
       " 278,\n",
       " 277.44444444444446,\n",
       " 276.8888888888889,\n",
       " 276.3333333333333,\n",
       " 275.77777777777777,\n",
       " 275.22222222222223,\n",
       " 274.6666666666667,\n",
       " 274.1111111111111,\n",
       " 274.6666666666667,\n",
       " 275.22222222222223,\n",
       " 275.77777777777777,\n",
       " 276.8888888888889,\n",
       " 278.55555555555554,\n",
       " 279.6666666666667,\n",
       " 280.22222222222223,\n",
       " 280.77777777777777,\n",
       " 281.3333333333333,\n",
       " 280.77777777777777,\n",
       " 280.22222222222223,\n",
       " 279.1111111111111,\n",
       " 278,\n",
       " 276.3333333333333,\n",
       " 275.22222222222223,\n",
       " 274.6666666666667,\n",
       " 274.1111111111111,\n",
       " 273.55555555555554,\n",
       " 273,\n",
       " 272.44444444444446,\n",
       " 271.8888888888889,\n",
       " 271.3333333333333,\n",
       " 270.77777777777777,\n",
       " 271.8888888888889,\n",
       " 273.55555555555554,\n",
       " 275.77777777777777,\n",
       " 279.1111111111111,\n",
       " 281.3333333333333,\n",
       " 283.55555555555554,\n",
       " 284.6666666666667,\n",
       " 284.1111111111111,\n",
       " 283,\n",
       " 281.3333333333333,\n",
       " 279.6666666666667,\n",
       " 278.55555555555554,\n",
       " 277.44444444444446,\n",
       " 276.8888888888889,\n",
       " 276.3333333333333,\n",
       " 275.77777777777777,\n",
       " 275.22222222222223,\n",
       " 274.6666666666667,\n",
       " 273.55555555555554,\n",
       " 273,\n",
       " 272.44444444444446,\n",
       " 273,\n",
       " 274.1111111111111,\n",
       " 275.22222222222223,\n",
       " 277.44444444444446,\n",
       " 279.1111111111111,\n",
       " 281.3333333333333,\n",
       " 282.44444444444446,\n",
       " 283,\n",
       " 282.44444444444446,\n",
       " 281.3333333333333,\n",
       " 279.6666666666667,\n",
       " 278.55555555555554,\n",
       " 276.8888888888889,\n",
       " 275.77777777777777,\n",
       " 274.6666666666667,\n",
       " 274.1111111111111,\n",
       " 273.55555555555554,\n",
       " 273,\n",
       " 272.44444444444446,\n",
       " 271.8888888888889,\n",
       " 270.77777777777777,\n",
       " 270.22222222222223,\n",
       " 269.6666666666667,\n",
       " 270.22222222222223,\n",
       " 271.3333333333333,\n",
       " 272.44444444444446,\n",
       " 274.1111111111111,\n",
       " 275.22222222222223,\n",
       " 276.3333333333333,\n",
       " 277.44444444444446,\n",
       " 278,\n",
       " 277.44444444444446,\n",
       " 276.3333333333333,\n",
       " 275.22222222222223,\n",
       " 273.55555555555554,\n",
       " 271.8888888888889,\n",
       " 270.77777777777777,\n",
       " 270.22222222222223,\n",
       " 269.6666666666667,\n",
       " 269.1111111111111,\n",
       " 268.55555555555554,\n",
       " 268,\n",
       " 267.44444444444446,\n",
       " 266.8888888888889,\n",
       " 267.44444444444446,\n",
       " 268,\n",
       " 269.1111111111111,\n",
       " 270.22222222222223,\n",
       " 271.3333333333333,\n",
       " 271.8888888888889,\n",
       " 270.77777777777777,\n",
       " 269.6666666666667]"
      ]
     },
     "execution_count": 90,
     "metadata": {},
     "output_type": "execute_result"
    }
   ],
   "source": [
    "temp_values = []\n",
    "\n",
    "for T in temps: \n",
    "    value = 273 + T \n",
    "    temp_values.append(value)\n",
    "\n",
    "temp_values"
   ]
  },
  {
   "cell_type": "markdown",
   "metadata": {},
   "source": [
    "### Create a netCDF4 Dataset and write the contents to a file\n",
    "\n",
    "Import the `Dataset` class from the `netCDF4` library. You can go on to create an *instance* of this class which will contain:\n",
    "- variables\n",
    "- coordinate variables\n",
    "- dimensions\n",
    "- global attributes\n",
    "\n",
    "When you create the instance of `Dataset`, you will give it a file name which will be written to when you close the `Dataset`.\n",
    "\n",
    "Also import `numpy` as `np`. This will be used to construct the data arrays from the existing lists that currently hold the weather data and coordinate information.\n"
   ]
  },
  {
   "cell_type": "code",
   "execution_count": 91,
   "metadata": {
    "collapsed": false,
    "jupyter": {
     "outputs_hidden": false
    },
    "pycharm": {
     "name": "#%%\n"
    }
   },
   "outputs": [],
   "source": [
    "from netCDF4 import Dataset\n",
    "import numpy as np"
   ]
  },
  {
   "cell_type": "markdown",
   "metadata": {},
   "source": [
    "#### Quick aside, let's make sure we have a `DATA_DIR` to write to\n",
    "\n",
    "Since this is a group exercise, everyone should be writing to the same output directory. Let's set some python variables that can be used below:\n",
    "1. `USER` - used in the output file names to ensure every NetCDF file is unique.\n",
    "2. `HOME_DIR` - your `$HOME` directory\n",
    "2. `MY_DATA_DIR` - the directory where you will write your NetCDF file.\n",
    "3. `GROUP_DATA_DIR` - the directory where all the NetCDF files will eventually be collected/available.\n",
    "\n",
    "Since `GROUP_DATA_DIR` is not writeable directly from the Notebook Service, we have set up a job to replicate files from `MY_DATA_DIR` to `GROUP_DATA_DIR` (which runs once per minute)."
   ]
  },
  {
   "cell_type": "code",
   "execution_count": 92,
   "metadata": {},
   "outputs": [],
   "source": [
    "import os\n",
    "USER = os.environ[\"JUPYTERHUB_USER\"]\n",
    "\n",
    "HOME_DIR = f\"/home/users/{USER}\"\n",
    "MY_DATA_DIR = os.path.join(HOME_DIR, \"weather-api-outputs\")\n",
    "\n",
    "# Create MY_DATA_DIR if it doesn't exist\n",
    "if not os.path.isdir(MY_DATA_DIR):\n",
    "    os.mkdir(MY_DATA_DIR)\n",
    "\n",
    "# All NetCDF will be automatically copied here (once per minute)\n",
    "GROUP_DATA_DIR = \"/home/users/amanning/weather_exercise\"\n",
    "\n",
    "# The output file will initially be written to your HOME_DIR (then you will move\n",
    "# it when complete)\n",
    "filename = f\"{gridID}-{USER}-temps.nc\"\n",
    "outfile = f\"{HOME_DIR}/{filename}\""
   ]
  },
  {
   "attachments": {},
   "cell_type": "markdown",
   "metadata": {},
   "source": [
    "#### Back to our NetCDF file\n",
    "\n",
    "Create the output file, as a `netCDF4 Dataset` instance, using the `outfile` defined above.\n",
    "\n",
    "If you need help, have a look at the 'Create the NetCDF dimensions & variables' slide in the [logging data from serial ports](https://github.com/ncasuk/ncas-isc/raw/68abbfd3a573e576c32fc127fafc874bfff98b1e/python/presentations/logging-data-from-serial-ports/LDFSP_Slides.pdf) presentation."
   ]
  },
  {
   "cell_type": "markdown",
   "metadata": {},
   "source": [
    "#### Start by defining some dimensions\n",
    "\n",
    "Create NetCDF *dimensions*:\n",
    "- `time_dim`: *unlimited* length\n",
    "- `lat_dim`: length 1\n",
    "- `lon_dim`: length 1"
   ]
  },
  {
   "cell_type": "code",
   "execution_count": 93,
   "metadata": {},
   "outputs": [],
   "source": [
    "try:\n",
    "    dataset = Dataset(outfile, \"w\", format=\"NETCDF4_CLASSIC\")\n",
    "except PermissionError:\n",
    "    print('ahhhhhhhhh run away')"
   ]
  },
  {
   "cell_type": "code",
   "execution_count": 94,
   "metadata": {},
   "outputs": [],
   "source": [
    "time_dim = dataset.createDimension('time', None) # None means \"UNLIMITED\"\n",
    "lat_dim = dataset.createDimension('lat', 1)\n",
    "lon_dim = dataset.createDimension('lon', 1)"
   ]
  },
  {
   "cell_type": "markdown",
   "metadata": {},
   "source": [
    "#### Now define the coordinate variables and then temperature variable\n",
    "\n",
    "Create the `time` *variable* with the following properties:\n",
    "- type: numpy float (`np.float64`)\n",
    "- variable id: `time`\n",
    "- dimensions: (`time`,)\n",
    "- set the array using the `time_values` list\n",
    "- `units`: `time_units` defined earlier\n",
    "- `standard_name`: `time`\n",
    "- `calendar`: `standard`"
   ]
  },
  {
   "cell_type": "code",
   "execution_count": 95,
   "metadata": {},
   "outputs": [],
   "source": [
    "time_var = dataset.createVariable('time', np.float64, ('time',))\n",
    "time_var[:] = time_values\n",
    "time_var.units = time_units\n",
    "time_var.standard_name = 'time'\n",
    "time_var.calendar = 'standard'"
   ]
  },
  {
   "cell_type": "markdown",
   "metadata": {},
   "source": [
    "Create the `lat` *variable* with the following properties:\n",
    "- type: numpy float (`np.float64`)\n",
    "- variable id: `lat`\n",
    "- dimensions: (`lat`,)\n",
    "- set the array of length 1 using the `gridY` value\n",
    "- `units`: `degrees_north`\n",
    "- `standard_name`: `latitude`"
   ]
  },
  {
   "cell_type": "code",
   "execution_count": 96,
   "metadata": {},
   "outputs": [],
   "source": [
    "lat_var = dataset.createVariable('lat', np.float64, ('lat',))\n",
    "lat_var[:] = [gridY]\n",
    "lat_var.units = 'degrees_north'\n",
    "lat_var.standard_name = 'latitude'"
   ]
  },
  {
   "cell_type": "markdown",
   "metadata": {},
   "source": [
    "Create the `lon` *variable* with the following properties:\n",
    "- type: numpy float (`np.float64`)\n",
    "- variable id: `lon`\n",
    "- dimensions: (`lon`,)\n",
    "- set the array of length 1 using the `gridX` value\n",
    "- `units`: `degrees_east`\n",
    "- `standard_name`: `longitude`"
   ]
  },
  {
   "cell_type": "code",
   "execution_count": 97,
   "metadata": {},
   "outputs": [],
   "source": [
    "lon_var = dataset.createVariable('lon', np.float64, ('lon',))\n",
    "lon_var[:] = [gridX]\n",
    "lon_var.units = 'degrees_east'\n",
    "lon_var.standard_name = 'longitude'"
   ]
  },
  {
   "cell_type": "markdown",
   "metadata": {},
   "source": [
    "Create the `temp` *variable* with the following properties:\n",
    "- type: numpy float (`np.float64`)\n",
    "- variable id: `temp`\n",
    "- dimensions: (`time`,)\n",
    "- set the array using the `temp_values` list\n",
    "- `long_name`: `air temperature (K)`\n",
    "- `units`: `K`\n",
    "- `standard_name`: `air_temperature`\n",
    "- `coordinates`: `lon lat` - to relate the longitude and latitude to this variable"
   ]
  },
  {
   "cell_type": "code",
   "execution_count": 98,
   "metadata": {},
   "outputs": [],
   "source": [
    "temp_var = dataset.createVariable('temp', np.float32, ('time',))\n",
    "temp_var[:] = temp_values\n",
    "temp_var.var_id = 'temp'\n",
    "temp_var.long_name = 'Air Temperature (K)'\n",
    "temp_var.units = 'K'\n",
    "temp_var.standard_name = 'air_temperature'\n",
    "temp_var.coordinates = 'lon lat'"
   ]
  },
  {
   "cell_type": "markdown",
   "metadata": {},
   "source": [
    "#### Add some global attributes\n",
    "\n",
    "The [CF Metadata Conventions](https://cfconventions.org/cf-conventions/cf-conventions.html#_overview) recommends a set of global attributes to \"provide human readable documentation of the file contents\":\n",
    "- title\n",
    "- history\n",
    "- institution\n",
    "- source\n",
    "- references\n",
    "- comment\n",
    "\n",
    "Add each of the above to your `Dataset` instance. Here are some suggested values (but you can say whatever you like):\n",
    "- title: Air Temperature forecasts for `<gridID>`\n",
    "- history: File created on: `<YYYY-MM-DD>`\n",
    "- institution: NCAS-ISC\n",
    "- source: NOAA Weather API Service\n",
    "- references: https://www.weather.gov/documentation/services-web-api\n",
    "- comment: The ISC course is teaching me about Python and NetCDF!\n",
    "\n",
    "You can add any other global attributes that you wish to."
   ]
  },
  {
   "cell_type": "code",
   "execution_count": 99,
   "metadata": {},
   "outputs": [],
   "source": [
    "dataset.title = f'Air Temperature forecasts for {gridID}'\n",
    "dataset.history = f'File created on: {dt.now().strftime(\"%Y-%m-%d\")}'\n",
    "dataset.institution = 'NCAS-ISC'\n",
    "dataset.source = 'NOAA Weather API Service'\n",
    "dataset.references = 'https://www.weather.gov/documentation/services-web-api'\n"
   ]
  },
  {
   "cell_type": "markdown",
   "metadata": {},
   "source": [
    "#### Finally, close the `Dataset` to save the file\n",
    "\n",
    "Save your NetCDF file by closing the dataset."
   ]
  },
  {
   "cell_type": "code",
   "execution_count": 100,
   "metadata": {},
   "outputs": [],
   "source": [
    "dataset.close()"
   ]
  },
  {
   "cell_type": "markdown",
   "metadata": {},
   "source": [
    "We can check it is there using `os.path.isfile(...)`:"
   ]
  },
  {
   "cell_type": "code",
   "execution_count": 101,
   "metadata": {},
   "outputs": [
    {
     "data": {
      "text/plain": [
       "True"
      ]
     },
     "execution_count": 101,
     "metadata": {},
     "output_type": "execute_result"
    }
   ],
   "source": [
    "os.path.isfile(outfile)"
   ]
  },
  {
   "cell_type": "code",
   "execution_count": 102,
   "metadata": {},
   "outputs": [
    {
     "data": {
      "text/plain": [
       "'/home/users/train032/BOU-train032-temps.nc'"
      ]
     },
     "execution_count": 102,
     "metadata": {},
     "output_type": "execute_result"
    }
   ],
   "source": [
    "outfile"
   ]
  },
  {
   "cell_type": "code",
   "execution_count": 103,
   "metadata": {},
   "outputs": [
    {
     "data": {
      "text/plain": [
       "True"
      ]
     },
     "execution_count": 103,
     "metadata": {},
     "output_type": "execute_result"
    }
   ],
   "source": [
    " os.path.isfile(f\"{GROUP_DATA_DIR}/{filename}\")"
   ]
  },
  {
   "cell_type": "markdown",
   "metadata": {},
   "source": [
    "### IMPORTANT: Move the file to your MY_DATA_DIR so it gets copied to the GROUP_DATA_DIR\n",
    "\n",
    "Since we cannot write directly to the `GROUP_DATA_DIR`, move the file from your `HOME_DIR` to your `MY_DATA_DIR`."
   ]
  },
  {
   "cell_type": "code",
   "execution_count": 104,
   "metadata": {},
   "outputs": [],
   "source": [
    "os.rename(outfile, f\"{GROUP_DATA_DIR}/{filename}\")"
   ]
  },
  {
   "cell_type": "code",
   "execution_count": 105,
   "metadata": {},
   "outputs": [],
   "source": [
    "#os.rename(f\"{MY_DATA_DIR}/{outfile}\", f\"{GROUP_DATA_DIR}/{outfile}\")"
   ]
  },
  {
   "cell_type": "markdown",
   "metadata": {
    "pycharm": {
     "name": "#%% md\n"
    }
   },
   "source": [
    "## 3. Find all the NetCDF files written during this exercise\n",
    "\n",
    "To find all the `.nc` files in a group workspace, we will use the glob module in Python.\n",
    "Glob let's us find all files matching a pattern, in our case:\n",
    "\n",
    "`{GROUP_DATA_DIR}/*.nc`"
   ]
  },
  {
   "cell_type": "code",
   "execution_count": 106,
   "metadata": {
    "collapsed": false,
    "jupyter": {
     "outputs_hidden": false
    },
    "pycharm": {
     "name": "#%%\n"
    }
   },
   "outputs": [],
   "source": [
    "from glob import glob"
   ]
  },
  {
   "cell_type": "markdown",
   "metadata": {
    "pycharm": {
     "name": "#%% md\n"
    }
   },
   "source": [
    "Can you use glob to make a list of file paths of all NetCDF files in the\n",
    "group workspace?"
   ]
  },
  {
   "cell_type": "code",
   "execution_count": 107,
   "metadata": {
    "collapsed": false,
    "jupyter": {
     "outputs_hidden": false
    },
    "pycharm": {
     "name": "#%%\n"
    }
   },
   "outputs": [
    {
     "name": "stdout",
     "output_type": "stream",
     "text": [
      "['/home/users/amanning/weather_exercise/TOP-train022-temps.nc', '/home/users/amanning/weather_exercise/OUN-train033-temps.nc', '/home/users/amanning/weather_exercise/GLD-train020-temps.nc', '/home/users/amanning/weather_exercise/GLD-train024-temps.nc', '/home/users/amanning/weather_exercise/BOU-train032-temps.nc', '/home/users/amanning/weather_exercise/ICT-train028-temps.nc', '/home/users/amanning/weather_exercise/BOU-train025-temps.nc', '/home/users/amanning/weather_exercise/BOU-train029-temps.nc', '/home/users/amanning/weather_exercise/BOX-train038-temps.nc']\n"
     ]
    }
   ],
   "source": [
    "filepaths = glob(f\"{GROUP_DATA_DIR}/*temps.nc\")\n",
    "print(filepaths)\n"
   ]
  },
  {
   "cell_type": "markdown",
   "metadata": {
    "pycharm": {
     "name": "#%% md\n"
    }
   },
   "source": [
    "## 4. Create a time-series graph of all the forecasts\n",
    "\n",
    "Now that we have a list of NetCDF file paths, we can open them and extract their data.\n",
    "\n",
    "To start, let us make the a plot using matplotlib."
   ]
  },
  {
   "cell_type": "code",
   "execution_count": 108,
   "metadata": {
    "collapsed": false,
    "jupyter": {
     "outputs_hidden": false
    },
    "pycharm": {
     "name": "#%%\n"
    }
   },
   "outputs": [],
   "source": [
    "from netCDF4 import num2date\n",
    "import matplotlib.pyplot as plt\n",
    "import matplotlib.dates as mdates\n",
    "%matplotlib inline"
   ]
  },
  {
   "cell_type": "markdown",
   "metadata": {
    "pycharm": {
     "name": "#%% md\n"
    }
   },
   "source": [
    "Create a subplots figure with figure and axis"
   ]
  },
  {
   "cell_type": "code",
   "execution_count": 109,
   "metadata": {
    "collapsed": false,
    "jupyter": {
     "outputs_hidden": false
    },
    "pycharm": {
     "name": "#%%\n"
    }
   },
   "outputs": [
    {
     "data": {
      "image/png": "[encoded data removed]",
      "text/plain": [
       "<Figure size 432x288 with 1 Axes>"
      ]
     },
     "metadata": {
      "needs_background": "light"
     },
     "output_type": "display_data"
    }
   ],
   "source": [
    "fig, ax = plt.subplots()"
   ]
  },
  {
   "cell_type": "markdown",
   "metadata": {
    "pycharm": {
     "name": "#%% md\n"
    }
   },
   "source": [
    "Can you set the x-axis locator (ticks) using dates class from matplotlib?\n",
    "- set the major locator to days.\n",
    "- set the minor locator to every 6 hours.\n",
    "- set the x-axis formatter to Day-Month for each day."
   ]
  },
  {
   "cell_type": "code",
   "execution_count": 110,
   "metadata": {
    "collapsed": false,
    "jupyter": {
     "outputs_hidden": false
    },
    "pycharm": {
     "name": "#%%\n"
    }
   },
   "outputs": [],
   "source": [
    "# In the matplotlib.dates module, as mdates, look at the DayLocator and HourLocator.\n",
    "fmt_day = mdates.DayLocator()\n",
    "fmt_six_hours = mdates.HourLocator(interval=6)\n",
    "\n",
    "ax.xaxis.set_major_locator(fmt_day)\n",
    "ax.xaxis.set_minor_locator(fmt_six_hours)\n",
    "ax.xaxis.set_major_formatter(mdates.DateFormatter('%d-%m'))"
   ]
  },
  {
   "cell_type": "markdown",
   "metadata": {
    "pycharm": {
     "name": "#%% md\n"
    }
   },
   "source": [
    "Label the axis, `ax`, on the plot:\n",
    "- label the x-axis as `Date`\n",
    "- label the y-axis as `Air Temperature / K`\n",
    "- set a title on your plot"
   ]
  },
  {
   "cell_type": "code",
   "execution_count": 111,
   "metadata": {
    "collapsed": false,
    "jupyter": {
     "outputs_hidden": false
    },
    "pycharm": {
     "name": "#%%\n"
    }
   },
   "outputs": [
    {
     "data": {
      "text/plain": [
       "Text(0.5, 1.0, 'Air temperature Forecast')"
      ]
     },
     "execution_count": 111,
     "metadata": {},
     "output_type": "execute_result"
    }
   ],
   "source": [
    "ax.set_xlabel(\"Date\")\n",
    "ax.set_ylabel(\"Air Temperature (K)\")\n",
    "ax.set_title(\"Air temperature Forecast\")"
   ]
  },
  {
   "attachments": {},
   "cell_type": "markdown",
   "metadata": {
    "pycharm": {
     "name": "#%% md\n"
    }
   },
   "source": [
    "Open each NetCDF file and extract the `temp`, `time`, `lat` and `lon` variables from the file. Then use the matplotlib `plot_date` function to plot the graph.\n",
    "\n",
    "- set the label of plot to the `<lat>, <lon>` coordinates attribute of the `temp` variable.\n",
    "\n",
    "Replace the elipses with your plotting, the `for` loop works through all the shared NetCDF files in the workspace, where `f` is the file path and `filepaths` is a list of data files.\n",
    "\n",
    "If you need help, look at the 'Plotting data with matplotlib' slide in the [logging data from serial ports](https://github.com/ncasuk/ncas-isc/raw/68abbfd3a573e576c32fc127fafc874bfff98b1e/python/presentations/logging-data-from-serial-ports/LDFSP_Slides.pdf) presentation.\n",
    "\n",
    "Plot a line graph using matplotlib: \n",
    "\n",
    "- you will need to set the marker to `-` otherwise you will get a scatter graph.\n",
    "- set the label of the plot to a string: `<lat>, <lon>`."
   ]
  },
  {
   "cell_type": "code",
   "execution_count": 112,
   "metadata": {
    "collapsed": false,
    "jupyter": {
     "outputs_hidden": false
    },
    "pycharm": {
     "name": "#%%\n"
    }
   },
   "outputs": [
    {
     "ename": "KeyError",
     "evalue": "'lat'",
     "output_type": "error",
     "traceback": [
      "\u001b[0;31m---------------------------------------------------------------------------\u001b[0m",
      "\u001b[0;31mKeyError\u001b[0m                                  Traceback (most recent call last)",
      "Input \u001b[0;32mIn [112]\u001b[0m, in \u001b[0;36m<cell line: 1>\u001b[0;34m()\u001b[0m\n\u001b[1;32m      5\u001b[0m temp \u001b[38;5;241m=\u001b[39m dset\u001b[38;5;241m.\u001b[39mvariables[\u001b[38;5;124m'\u001b[39m\u001b[38;5;124mtemp\u001b[39m\u001b[38;5;124m'\u001b[39m]\n\u001b[1;32m      6\u001b[0m time \u001b[38;5;241m=\u001b[39m dset\u001b[38;5;241m.\u001b[39mvariables[\u001b[38;5;124m'\u001b[39m\u001b[38;5;124mtime\u001b[39m\u001b[38;5;124m'\u001b[39m]\n\u001b[0;32m----> 7\u001b[0m lat \u001b[38;5;241m=\u001b[39m \u001b[43mdset\u001b[49m\u001b[38;5;241;43m.\u001b[39;49m\u001b[43mvariables\u001b[49m\u001b[43m[\u001b[49m\u001b[38;5;124;43m'\u001b[39;49m\u001b[38;5;124;43mlat\u001b[39;49m\u001b[38;5;124;43m'\u001b[39;49m\u001b[43m]\u001b[49m[\u001b[38;5;241m0\u001b[39m]\n\u001b[1;32m      8\u001b[0m lon \u001b[38;5;241m=\u001b[39m dset\u001b[38;5;241m.\u001b[39mvariables[\u001b[38;5;124m'\u001b[39m\u001b[38;5;124mlon\u001b[39m\u001b[38;5;124m'\u001b[39m][\u001b[38;5;241m0\u001b[39m]\n\u001b[1;32m     10\u001b[0m times \u001b[38;5;241m=\u001b[39m num2date(time[:], units\u001b[38;5;241m=\u001b[39mtime\u001b[38;5;241m.\u001b[39munits, calendar\u001b[38;5;241m=\u001b[39mtime\u001b[38;5;241m.\u001b[39mcalendar)\n",
      "\u001b[0;31mKeyError\u001b[0m: 'lat'"
     ]
    }
   ],
   "source": [
    "for f in filepaths:\n",
    "    \n",
    "    dset = Dataset(f, mode='r')\n",
    "    \n",
    "    temp = dset.variables['temp']\n",
    "    time = dset.variables['time']\n",
    "    lat = dset.variables['lat'][0]\n",
    "    lon = dset.variables['lon'][0]\n",
    "\n",
    "    times = num2date(time[:], units=time.units, calendar=time.calendar)\n",
    "    ax.plot_date(times, temp[:], '-', label=f\"{lat:.3f}, {lon:.3f}\")"
   ]
  },
  {
   "cell_type": "markdown",
   "metadata": {
    "pycharm": {
     "name": "#%% md\n"
    }
   },
   "source": [
    "Finally, show the plot with a legend, you might want to enable tight layout,\n",
    "and save the plot to your `MY_DATA_DIR` directory."
   ]
  },
  {
   "cell_type": "code",
   "execution_count": 88,
   "metadata": {
    "collapsed": false,
    "jupyter": {
     "outputs_hidden": false
    },
    "pycharm": {
     "name": "#%%\n"
    }
   },
   "outputs": [
    {
     "data": {
      "image/png": "[encoded data removed]",
      "text/plain": [
       "<Figure size 432x288 with 1 Axes>"
      ]
     },
     "execution_count": 88,
     "metadata": {},
     "output_type": "execute_result"
    }
   ],
   "source": [
    "ax.grid(True)\n",
    "fig.tight_layout()\n",
    "ax.legend()\n",
    "fig"
   ]
  },
  {
   "cell_type": "markdown",
   "metadata": {},
   "source": [
    "### Save the graph to a PNG file"
   ]
  },
  {
   "cell_type": "code",
   "execution_count": null,
   "metadata": {},
   "outputs": [],
   "source": [
    "fig.savefig(f\"{MY_DATA_DIR}/{gridID}-{USER}-temps.png\")"
   ]
  }
 ],
 "metadata": {
  "kernelspec": {
   "display_name": "Python 3 + Jaspy",
   "language": "python",
   "name": "jaspy"
  },
  "language_info": {
   "codemirror_mode": {
    "name": "ipython",
    "version": 3
   },
   "file_extension": ".py",
   "mimetype": "text/x-python",
   "name": "python",
   "nbconvert_exporter": "python",
   "pygments_lexer": "ipython3",
   "version": "3.10.5"
  }
 },
 "nbformat": 4,
 "nbformat_minor": 4
}
